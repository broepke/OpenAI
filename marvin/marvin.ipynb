{
 "cells": [
  {
   "cell_type": "code",
   "execution_count": 1,
   "metadata": {},
   "outputs": [
    {
     "data": {
      "text/html": [
       "<pre style=\"white-space:pre;overflow-x:auto;line-height:normal;font-family:Menlo,'DejaVu Sans Mono',consolas,'Courier New',monospace\"><span style=\"color: #7fbfbf; text-decoration-color: #7fbfbf\">[03/31/23 09:10:37] </span><span style=\"color: #000080; text-decoration-color: #000080\">INFO    </span> marvin.marvin: <span style=\"color: #000000; text-decoration-color: #000000; background-color: #ffffff\">Using OpenAI model </span><span style=\"color: #008000; text-decoration-color: #008000; background-color: #ffffff\">\"gpt-3.5-turbo\"</span>                        <a href=\"file:///Users/brianroepke/Projects/OpenAI/venv/lib/python3.11/site-packages/marvin/utilities/logging.py\" target=\"_blank\"><span style=\"color: #7f7f7f; text-decoration-color: #7f7f7f\">logging.py</span></a><span style=\"color: #7f7f7f; text-decoration-color: #7f7f7f\">:</span><a href=\"file:///Users/brianroepke/Projects/OpenAI/venv/lib/python3.11/site-packages/marvin/utilities/logging.py#50\" target=\"_blank\"><span style=\"color: #7f7f7f; text-decoration-color: #7f7f7f\">50</span></a>\n",
       "</pre>\n"
      ],
      "text/plain": [
       "\u001b[2;36m[03/31/23 09:10:37]\u001b[0m\u001b[2;36m \u001b[0m\u001b[34mINFO    \u001b[0m marvin.marvin: \u001b[39;49mUsing OpenAI model \u001b[0m\u001b[32;49m\"gpt-3.5-turbo\"\u001b[0m                        \u001b]8;id=447489;file:///Users/brianroepke/Projects/OpenAI/venv/lib/python3.11/site-packages/marvin/utilities/logging.py\u001b\\\u001b[2mlogging.py\u001b[0m\u001b]8;;\u001b\\\u001b[2m:\u001b[0m\u001b]8;id=216252;file:///Users/brianroepke/Projects/OpenAI/venv/lib/python3.11/site-packages/marvin/utilities/logging.py#50\u001b\\\u001b[2m50\u001b[0m\u001b]8;;\u001b\\\n"
      ]
     },
     "metadata": {},
     "output_type": "display_data"
    }
   ],
   "source": [
    "from marvin import ai_fn"
   ]
  },
  {
   "cell_type": "code",
   "execution_count": 2,
   "metadata": {},
   "outputs": [],
   "source": [
    "@ai_fn\n",
    "def list_of_primes(x):\n",
    "    \"\"\"Generate a list of x number of the first prime numbers\"\"\""
   ]
  },
  {
   "cell_type": "code",
   "execution_count": 3,
   "metadata": {},
   "outputs": [
    {
     "name": "stderr",
     "output_type": "stream",
     "text": [
      "Retrying langchain.chat_models.openai.acompletion_with_retry.<locals>._completion_with_retry in 4.0 seconds as it raised APIConnectionError: Error communicating with OpenAI.\n",
      "Retrying langchain.chat_models.openai.acompletion_with_retry.<locals>._completion_with_retry in 4.0 seconds as it raised APIConnectionError: Error communicating with OpenAI.\n",
      "Retrying langchain.chat_models.openai.acompletion_with_retry.<locals>._completion_with_retry in 4.0 seconds as it raised APIConnectionError: Error communicating with OpenAI.\n",
      "Retrying langchain.chat_models.openai.acompletion_with_retry.<locals>._completion_with_retry in 8.0 seconds as it raised APIConnectionError: Error communicating with OpenAI.\n",
      "Retrying langchain.chat_models.openai.acompletion_with_retry.<locals>._completion_with_retry in 10.0 seconds as it raised APIConnectionError: Error communicating with OpenAI.\n"
     ]
    }
   ],
   "source": [
    "list_of_primes(10)"
   ]
  },
  {
   "cell_type": "code",
   "execution_count": null,
   "metadata": {},
   "outputs": [],
   "source": []
  }
 ],
 "metadata": {
  "kernelspec": {
   "display_name": "venv",
   "language": "python",
   "name": "python3"
  },
  "language_info": {
   "codemirror_mode": {
    "name": "ipython",
    "version": 3
   },
   "file_extension": ".py",
   "mimetype": "text/x-python",
   "name": "python",
   "nbconvert_exporter": "python",
   "pygments_lexer": "ipython3",
   "version": "3.11.1"
  },
  "orig_nbformat": 4,
  "vscode": {
   "interpreter": {
    "hash": "9f486034883a202e8bea762f9972b42d879f888bc5f2dc5507c770b39c0383c7"
   }
  }
 },
 "nbformat": 4,
 "nbformat_minor": 2
}
