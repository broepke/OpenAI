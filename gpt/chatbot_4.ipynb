{
 "cells": [
  {
   "attachments": {},
   "cell_type": "markdown",
   "metadata": {},
   "source": [
    "# GPT 4 Chatbot Demo"
   ]
  },
  {
   "cell_type": "code",
   "execution_count": null,
   "metadata": {},
   "outputs": [],
   "source": [
    "import os\n",
    "import openai"
   ]
  },
  {
   "cell_type": "code",
   "execution_count": 2,
   "metadata": {},
   "outputs": [],
   "source": [
    "# Load your API key from an environment variable or secret management service\n",
    "KEY = os.getenv(\"OPENAI_API_KEY\")\n",
    "openai.api_key = KEY"
   ]
  },
  {
   "cell_type": "code",
   "execution_count": 3,
   "metadata": {},
   "outputs": [],
   "source": [
    "# Function to send a message to the OpenAI chatbot model and return its response\n",
    "def send_message(message_log):\n",
    "    # Use OpenAI's ChatCompletion API to get the chatbot's response\n",
    "    response = openai.ChatCompletion.create(\n",
    "        model=\"gpt-4\",  # The name of the OpenAI chatbot model to use\n",
    "        messages=message_log,   # The conversation history up to this point, as a list of dictionaries\n",
    "        max_tokens=3800,        # The maximum number of tokens (words or subwords) in the generated response\n",
    "        stop=None,              # The stopping sequence for the generated response, if any (not used here)\n",
    "        temperature=0.7,        # The \"creativity\" of the generated response (higher temperature = more creative)\n",
    "    )\n",
    "\n",
    "    # Find the first response from the chatbot that has text in it (some responses may not have text)\n",
    "    for choice in response.choices:\n",
    "        if \"text\" in choice:\n",
    "            return choice.text\n",
    "\n",
    "    # If no response with text is found, return the first response's content (which may be empty)\n",
    "    return response.choices[0].message.content"
   ]
  },
  {
   "cell_type": "code",
   "execution_count": 4,
   "metadata": {},
   "outputs": [],
   "source": [
    "# Main function that runs the chatbot\n",
    "def main():\n",
    "    # Initialize the conversation history with a message from the chatbot\n",
    "    message_log = [\n",
    "        {\"role\": \"system\", \"content\": \"You are an expert python programmer.\"}\n",
    "    ]\n",
    "\n",
    "    # Set a flag to keep track of whether this is the first request in the conversation\n",
    "    first_request = True\n",
    "\n",
    "    # Start a loop that runs until the user types \"quit\"\n",
    "    while True:\n",
    "        if first_request:\n",
    "            # If this is the first request, get the user's input and add it to the conversation history\n",
    "            user_input = input(\"You: \")\n",
    "            message_log.append({\"role\": \"user\", \"content\": user_input})\n",
    "\n",
    "            # Send the conversation history to the chatbot and get its response\n",
    "            response = send_message(message_log)\n",
    "\n",
    "            # Add the chatbot's response to the conversation history and print it to the console\n",
    "            message_log.append({\"role\": \"assistant\", \"content\": response})\n",
    "            print(f\"AI assistant: {response}\")\n",
    "\n",
    "            # Set the flag to False so that this branch is not executed again\n",
    "            first_request = False\n",
    "        else:\n",
    "            # If this is not the first request, get the user's input and add it to the conversation history\n",
    "            user_input = input(\"You: \")\n",
    "\n",
    "            # If the user types \"quit\", end the loop and print a goodbye message\n",
    "            if user_input.lower() == \"quit\":\n",
    "                print(\"Goodbye!\")\n",
    "                break\n",
    "\n",
    "            message_log.append({\"role\": \"user\", \"content\": user_input})\n",
    "\n",
    "            # Send the conversation history to the chatbot and get its response\n",
    "            response = send_message(message_log)\n",
    "\n",
    "            # Add the chatbot's response to the conversation history and print it to the console\n",
    "            message_log.append({\"role\": \"assistant\", \"content\": response})\n",
    "            print(f\"AI assistant: {response}\")"
   ]
  },
  {
   "attachments": {},
   "cell_type": "markdown",
   "metadata": {},
   "source": [
    "## Demonstrate the Full Workflow with User Inputs."
   ]
  },
  {
   "cell_type": "code",
   "execution_count": 5,
   "metadata": {},
   "outputs": [
    {
     "name": "stdout",
     "output_type": "stream",
     "text": [
      "AI assistant: The largest dog breed is the English Mastiff. They are known for their massive size, strength, and loyalty. These gentle giants can weigh anywhere from 120 to 230 pounds (55 to 100 kg) or more.\n",
      "AI assistant: English Mastiffs, as the name suggests, originated in England. They have a long history, dating back to ancient times, and have been used as guard dogs, war dogs, and companions throughout the centuries.\n"
     ]
    }
   ],
   "source": [
    "main()"
   ]
  },
  {
   "attachments": {},
   "cell_type": "markdown",
   "metadata": {},
   "source": [
    "## Demonstrate Calling the ChatAPI Only"
   ]
  },
  {
   "cell_type": "code",
   "execution_count": null,
   "metadata": {},
   "outputs": [],
   "source": [
    "message_log = [\n",
    "    {\"role\": \"system\", \"content\": \"You are a helpful assistant.\"},\n",
    "    {'role': 'user', 'content': 'What is the tallest building in the world? '}\n",
    "]\n",
    "\n",
    "send_message(message_log)"
   ]
  },
  {
   "cell_type": "code",
   "execution_count": null,
   "metadata": {},
   "outputs": [],
   "source": []
  }
 ],
 "metadata": {
  "kernelspec": {
   "display_name": "venv",
   "language": "python",
   "name": "python3"
  },
  "language_info": {
   "codemirror_mode": {
    "name": "ipython",
    "version": 3
   },
   "file_extension": ".py",
   "mimetype": "text/x-python",
   "name": "python",
   "nbconvert_exporter": "python",
   "pygments_lexer": "ipython3",
   "version": "3.11.1"
  },
  "orig_nbformat": 4
 },
 "nbformat": 4,
 "nbformat_minor": 2
}
